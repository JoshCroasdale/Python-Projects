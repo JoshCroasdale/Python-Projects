{
 "cells": [
  {
   "cell_type": "code",
   "execution_count": null,
   "id": "8c29fa81-d1d4-4011-a467-c328d6fd92c6",
   "metadata": {},
   "outputs": [
    {
     "name": "stdin",
     "output_type": "stream",
     "text": [
      "What would you like? (espresso/latte/cappuccino):  espresso\n"
     ]
    },
    {
     "name": "stdout",
     "output_type": "stream",
     "text": [
      "Please insert coins.\n"
     ]
    },
    {
     "name": "stdin",
     "output_type": "stream",
     "text": [
      "How many quarters?:  10\n",
      "How many dimes?:  10\n",
      "How many nickels?:  10\n",
      "How many pennies?:  10\n"
     ]
    },
    {
     "name": "stdout",
     "output_type": "stream",
     "text": [
      "Here is $2.6 in change.\n",
      "Here is your espresso. Enjoy!\n"
     ]
    },
    {
     "name": "stdin",
     "output_type": "stream",
     "text": [
      "What would you like? (espresso/latte/cappuccino):  report\n"
     ]
    },
    {
     "name": "stdout",
     "output_type": "stream",
     "text": [
      "Water: 250ml\n",
      "Milk: 200ml\n",
      "Coffee: 82g\n",
      "Money: $1.5\n"
     ]
    }
   ],
   "source": [
    "MENU = {\n",
    "    \"espresso\": {\n",
    "        \"ingredients\": {\n",
    "            \"water\": 50,\n",
    "            \"coffee\": 18,\n",
    "        },\n",
    "        \"cost\": 1.5,\n",
    "    },\n",
    "    \"latte\": {\n",
    "        \"ingredients\": {\n",
    "            \"water\": 200,\n",
    "            \"milk\": 150,\n",
    "            \"coffee\": 24,\n",
    "        },\n",
    "        \"cost\": 2.5,\n",
    "    },\n",
    "    \"cappuccino\": {\n",
    "        \"ingredients\": {\n",
    "            \"water\": 250,\n",
    "            \"milk\": 100,\n",
    "            \"coffee\": 24,\n",
    "        },\n",
    "        \"cost\": 3.0,\n",
    "    }\n",
    "}\n",
    "\n",
    "resources = {\n",
    "    \"water\": 300,\n",
    "    \"milk\": 200,\n",
    "    \"coffee\": 100,\n",
    "}\n",
    "\n",
    "total_money = 0\n",
    "\n",
    "def calculate_resources():\n",
    "    print(f\"Water: {resources['water']}ml\")\n",
    "    print(f\"Milk: {resources['milk']}ml\")\n",
    "    print(f\"Coffee: {resources['coffee']}g\")\n",
    "    print(f\"Money: ${total_money}\")\n",
    "\n",
    "def prompt():\n",
    "    print(\"Please insert coins.\")\n",
    "    quarters = int(input(\"How many quarters?: \"))\n",
    "    dimes = int(input(\"How many dimes?: \"))\n",
    "    nickels = int(input(\"How many nickels?: \"))\n",
    "    pennies = int(input(\"How many pennies?: \"))\n",
    "    return (quarters * 0.25) + (dimes * 0.10) + (nickels * 0.05) + (pennies * 0.01)\n",
    "\n",
    "def check_resources(ingredients):\n",
    "    \"\"\"Check if there are enough resources to make the drink.\"\"\"\n",
    "    for item in ingredients:\n",
    "        if ingredients[item] > resources[item]:\n",
    "            print(f\"Sorry there is not enough {item}.\")\n",
    "            return False\n",
    "    return True\n",
    "\n",
    "def make_coffee(drink_name, order_ingredients):\n",
    "    \"\"\"Deduct the required ingredients from the resources.\"\"\"\n",
    "    for item in order_ingredients:\n",
    "        resources[item] -= order_ingredients[item]\n",
    "    print(f\"Here is your {drink_name}. Enjoy!\")\n",
    "\n",
    "def process_transaction(drink_cost):\n",
    "    global total_money\n",
    "    payment = prompt()\n",
    "    if payment >= drink_cost:\n",
    "        change = round(payment - drink_cost, 2)\n",
    "        print(f\"Here is ${change} in change.\")\n",
    "        total_money += drink_cost\n",
    "        return True\n",
    "    else:\n",
    "        print(\"Sorry that's not enough money. Money refunded.\")\n",
    "        return False\n",
    "\n",
    "def coffee_machine():\n",
    "    while True:\n",
    "        user_input = input(\"What would you like? (espresso/latte/cappuccino): \").lower()\n",
    "        if user_input == \"off\":\n",
    "            break\n",
    "        elif user_input == \"report\":\n",
    "            calculate_resources()\n",
    "        else:\n",
    "            drink = MENU[user_input]\n",
    "            if check_resources(drink[\"ingredients\"]):\n",
    "                if process_transaction(drink[\"cost\"]):\n",
    "                    make_coffee(user_input, drink[\"ingredients\"])\n",
    "\n",
    "coffee_machine()"
   ]
  }
 ],
 "metadata": {
  "kernelspec": {
   "display_name": "Python 3 (ipykernel)",
   "language": "python",
   "name": "python3"
  },
  "language_info": {
   "codemirror_mode": {
    "name": "ipython",
    "version": 3
   },
   "file_extension": ".py",
   "mimetype": "text/x-python",
   "name": "python",
   "nbconvert_exporter": "python",
   "pygments_lexer": "ipython3",
   "version": "3.11.5"
  }
 },
 "nbformat": 4,
 "nbformat_minor": 5
}
