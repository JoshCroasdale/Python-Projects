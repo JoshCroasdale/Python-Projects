{
 "cells": [
  {
   "cell_type": "code",
   "execution_count": 3,
   "id": "f3c5b240-ec87-4bed-b7a2-c4202b490f2e",
   "metadata": {},
   "outputs": [],
   "source": [
    "# Calculator\n",
    "\n",
    "def add(n1, n2):\n",
    "  return n1 + n2\n",
    "\n",
    "def subtract(n1, n2):\n",
    "  return n1 - n2\n",
    "\n",
    "def multiply(n1, n2):\n",
    "  return n1 * n2\n",
    "\n",
    "def divide(n1, n2):\n",
    "  return n1 / n2\n",
    "\n",
    "operations = {\n",
    "  \"+\": add, \n",
    "  \"-\": subtract, \n",
    "  \"*\": multiply, \n",
    "  \"/\": divide\n",
    "}"
   ]
  },
  {
   "cell_type": "code",
   "execution_count": null,
   "id": "76ce1edf-0609-4cc6-855b-0f667f19ba0c",
   "metadata": {},
   "outputs": [
    {
     "name": "stdin",
     "output_type": "stream",
     "text": [
      "What's the first number?:  5\n"
     ]
    },
    {
     "name": "stdout",
     "output_type": "stream",
     "text": [
      "+\n",
      "-\n",
      "*\n",
      "/\n"
     ]
    },
    {
     "name": "stdin",
     "output_type": "stream",
     "text": [
      "Pick an operation from above:  +\n",
      "What's the next number?:  4\n"
     ]
    },
    {
     "name": "stdout",
     "output_type": "stream",
     "text": [
      "5 + 4 = 9\n"
     ]
    }
   ],
   "source": [
    "def calculator():\n",
    "  num1 = int(input(\"What's the first number?: \"))\n",
    "  for key in operations:\n",
    "    print(key)\n",
    "  continue_calculating = True\n",
    "  \n",
    "  while continue_calculating:\n",
    "    operation_symbol = input(\"Pick an operation from above: \")\n",
    "    num2 = int(input(\"What's the next number?: \"))\n",
    "    calculation_function = operations[operation_symbol]\n",
    "    answer = calculation_function(num1, num2)\n",
    "    \n",
    "    print(f\"{num1} {operation_symbol} {num2} = {answer}\")\n",
    "  \n",
    "    if input(f\"Type 'y' to continue calculating with {answer}, or type 'n' to exit.\") == 'y':\n",
    "      num1 = answer\n",
    "    else:\n",
    "      continue_calculating = False\n",
    "      print(\"Finished calculating \\n\")\n",
    "      calculator()\n",
    "\n",
    "calculator()"
   ]
  },
  {
   "cell_type": "code",
   "execution_count": null,
   "id": "ff7313b2-29f8-45aa-9a32-69f89297d099",
   "metadata": {},
   "outputs": [],
   "source": []
  }
 ],
 "metadata": {
  "kernelspec": {
   "display_name": "Python 3 (ipykernel)",
   "language": "python",
   "name": "python3"
  },
  "language_info": {
   "codemirror_mode": {
    "name": "ipython",
    "version": 3
   },
   "file_extension": ".py",
   "mimetype": "text/x-python",
   "name": "python",
   "nbconvert_exporter": "python",
   "pygments_lexer": "ipython3",
   "version": "3.11.5"
  }
 },
 "nbformat": 4,
 "nbformat_minor": 5
}
