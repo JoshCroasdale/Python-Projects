{
 "cells": [
  {
   "cell_type": "code",
   "execution_count": 1,
   "id": "a7817b95-13b2-40ec-852e-a0eae47f2887",
   "metadata": {},
   "outputs": [
    {
     "name": "stdout",
     "output_type": "stream",
     "text": [
      "Welcome to the Number Guessing Game!\n",
      "I'm thinking of a number between 1 and 100\n"
     ]
    },
    {
     "name": "stdin",
     "output_type": "stream",
     "text": [
      "Choose a difficulty. Type 'easy' or 'hard':  easy\n"
     ]
    },
    {
     "name": "stdout",
     "output_type": "stream",
     "text": [
      "You have 10 attempts remaining to guess the number.\n"
     ]
    },
    {
     "name": "stdin",
     "output_type": "stream",
     "text": [
      "Make a guess:  50\n"
     ]
    },
    {
     "name": "stdout",
     "output_type": "stream",
     "text": [
      "Too low.\n",
      "Guess again.\n",
      "You have 9 attempts remaining to guess the number.\n"
     ]
    },
    {
     "name": "stdin",
     "output_type": "stream",
     "text": [
      "Make a guess:  75\n"
     ]
    },
    {
     "name": "stdout",
     "output_type": "stream",
     "text": [
      "Too low.\n",
      "Guess again.\n",
      "You have 8 attempts remaining to guess the number.\n"
     ]
    },
    {
     "name": "stdin",
     "output_type": "stream",
     "text": [
      "Make a guess:  87\n"
     ]
    },
    {
     "name": "stdout",
     "output_type": "stream",
     "text": [
      "You got it! the answer was 87.\n"
     ]
    }
   ],
   "source": [
    "# Guess the Number Game\n",
    "\"\"\"\n",
    "Fun game that challenges you to guess a randomly generated number between 1 and 100.\n",
    "Two difficulty levels: easy or hard.\n",
    "\"\"\"\n",
    "\n",
    "import random\n",
    "def guessing_game():\n",
    "    number_of_guesses = 0\n",
    "    magic_number = random.randint(1, 100)\n",
    "    print(\"Welcome to the Number Guessing Game!\")\n",
    "    print(\"I'm thinking of a number between 1 and 100\")\n",
    "    difficulty = input(\"Choose a difficulty. Type 'easy' or 'hard': \")\n",
    "    if difficulty == 'easy':\n",
    "        number_of_guesses = 10\n",
    "    else:\n",
    "        number_of_guesses = 5\n",
    "    print(f\"You have {number_of_guesses} attempts remaining to guess the number.\")\n",
    "    user_guess = int(input(\"Make a guess: \"))\n",
    "    while number_of_guesses != 0:\n",
    "        number_of_guesses -= 1\n",
    "        if number_of_guesses == 0:\n",
    "            return print(\"Nope, sorry. You've run out of guesses, you lose.\")\n",
    "        elif user_guess == magic_number:\n",
    "            return print(f\"You got it! the answer was {magic_number}.\")\n",
    "        elif user_guess > magic_number:\n",
    "            print(\"Too high.\")\n",
    "            print(\"Guess again.\")\n",
    "            print(f\"You have {number_of_guesses} attempts remaining to guess the number.\")\n",
    "            user_guess = int(input(\"Make a guess: \"))\n",
    "        else:\n",
    "            print(\"Too low.\")\n",
    "            print(\"Guess again.\")\n",
    "            print(f\"You have {number_of_guesses} attempts remaining to guess the number.\")\n",
    "            user_guess = int(input(\"Make a guess: \"))\n",
    "\n",
    "guessing_game()"
   ]
  }
 ],
 "metadata": {
  "kernelspec": {
   "display_name": "Python 3 (ipykernel)",
   "language": "python",
   "name": "python3"
  },
  "language_info": {
   "codemirror_mode": {
    "name": "ipython",
    "version": 3
   },
   "file_extension": ".py",
   "mimetype": "text/x-python",
   "name": "python",
   "nbconvert_exporter": "python",
   "pygments_lexer": "ipython3",
   "version": "3.11.5"
  }
 },
 "nbformat": 4,
 "nbformat_minor": 5
}
